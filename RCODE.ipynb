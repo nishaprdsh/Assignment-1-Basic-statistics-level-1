{
 "cells": [
  {
   "cell_type": "markdown",
   "id": "458f1410",
   "metadata": {},
   "source": [
    "# Q24)"
   ]
  },
  {
   "cell_type": "code",
   "execution_count": 3,
   "id": "a4fbd997",
   "metadata": {},
   "outputs": [],
   "source": [
    "x=260\n",
    "µ=270\n",
    "s=90\n",
    "n=18"
   ]
  },
  {
   "cell_type": "code",
   "execution_count": 6,
   "id": "72392bb6",
   "metadata": {},
   "outputs": [],
   "source": [
    "r_code<-pt(-0.471,df=17) #where tvalue is -0.471"
   ]
  },
  {
   "cell_type": "code",
   "execution_count": 7,
   "id": "6f9758cc",
   "metadata": {},
   "outputs": [
    {
     "data": {
      "text/html": [
       "0.321814033168507"
      ],
      "text/latex": [
       "0.321814033168507"
      ],
      "text/markdown": [
       "0.321814033168507"
      ],
      "text/plain": [
       "[1] 0.321814"
      ]
     },
     "metadata": {},
     "output_type": "display_data"
    }
   ],
   "source": [
    "r_code"
   ]
  }
 ],
 "metadata": {
  "kernelspec": {
   "display_name": "R",
   "language": "R",
   "name": "ir"
  },
  "language_info": {
   "codemirror_mode": "r",
   "file_extension": ".r",
   "mimetype": "text/x-r-source",
   "name": "R",
   "pygments_lexer": "r",
   "version": "3.6.1"
  }
 },
 "nbformat": 4,
 "nbformat_minor": 5
}
